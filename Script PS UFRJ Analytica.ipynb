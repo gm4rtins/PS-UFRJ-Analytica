{
 "cells": [
  {
   "cell_type": "code",
   "execution_count": 65,
   "metadata": {},
   "outputs": [],
   "source": [
    "import pandas as pd\n",
    "import matplotlib.pyplot as plt\n",
    "import matplotlib\n",
    "%matplotlib inline"
   ]
  },
  {
   "cell_type": "markdown",
   "metadata": {},
   "source": [
    "<h1>IMPORTANDO E CONFERINDO DADOS</h1>\n",
    "<p align='justify'> Para conseguir responder as perguntas do relatório, serão utilizados dados da <a href='https://basedosdados.org/'>base dos dados</a>. Apesar de a maioria deles já ser classificado como dado limpo no site, vale a pena conferir se está tudo em ordem.</p> \n",
    "<h2>IPS</h2>\n",
    "<p align='justify'>Primeiramente, vamos importar os dados referentes ao Índice de Progesso Social (IPS) no Rio de Janeiro. Esses dados trazem imformações sobre como o Rio de Janeiro no geral e como algumas regiões do Rio estão performando em questões sociais. Cada indicador social recebe uma nota de 0 a 100 informando o quão bem a região do Rio está em um determinado quesito.</p>\n",
    "<p align='justify'>No total, vamos importar duas bases de dados referentes ao IPS. A primeira delas (dimensões) traz o resultado de métricas 'padrões' do estudo, que são aplicadas mundialmente. O segundo (indicadores) são desdobramentos, ou 'subtópicos' das dimensões.</p>\n",
    "\n",
    "<h3>DIMENSÕES</h3>"
   ]
  },
  {
   "cell_type": "code",
   "execution_count": 66,
   "metadata": {},
   "outputs": [
    {
     "name": "stdout",
     "output_type": "stream",
     "text": [
      "(99, 18)\n"
     ]
    },
    {
     "data": {
      "text/html": [
       "<div>\n",
       "<style scoped>\n",
       "    .dataframe tbody tr th:only-of-type {\n",
       "        vertical-align: middle;\n",
       "    }\n",
       "\n",
       "    .dataframe tbody tr th {\n",
       "        vertical-align: top;\n",
       "    }\n",
       "\n",
       "    .dataframe thead th {\n",
       "        text-align: right;\n",
       "    }\n",
       "</style>\n",
       "<table border=\"1\" class=\"dataframe\">\n",
       "  <thead>\n",
       "    <tr style=\"text-align: right;\">\n",
       "      <th></th>\n",
       "      <th>ano</th>\n",
       "      <th>regiao_administrativa</th>\n",
       "      <th>ips_geral</th>\n",
       "      <th>necessidades_humanas_basicas_nota_dimensao</th>\n",
       "      <th>nutricao_cuidados_medicos_basicos</th>\n",
       "      <th>agua_saneamento</th>\n",
       "      <th>moradia</th>\n",
       "      <th>seguranca_pessoal</th>\n",
       "      <th>fundamentos_bem_estar_nota_dimensao</th>\n",
       "      <th>acesso_conhecimento_basico</th>\n",
       "      <th>acesso_informacao</th>\n",
       "      <th>saude_bem_estar</th>\n",
       "      <th>qualidade_meio_ambiente</th>\n",
       "      <th>oportunidades_nota_dimensao</th>\n",
       "      <th>direitos_individuais</th>\n",
       "      <th>liberdades_individuais</th>\n",
       "      <th>tolerancia_inclusao</th>\n",
       "      <th>acesso_educacao_superior</th>\n",
       "    </tr>\n",
       "  </thead>\n",
       "  <tbody>\n",
       "    <tr>\n",
       "      <th>0</th>\n",
       "      <td>2016</td>\n",
       "      <td>Rio De Janeiro</td>\n",
       "      <td>60.77</td>\n",
       "      <td>75.84</td>\n",
       "      <td>70.19</td>\n",
       "      <td>83.68</td>\n",
       "      <td>78.16</td>\n",
       "      <td>71.34</td>\n",
       "      <td>53.28</td>\n",
       "      <td>49.96</td>\n",
       "      <td>50.89</td>\n",
       "      <td>62.03</td>\n",
       "      <td>50.26</td>\n",
       "      <td>53.20</td>\n",
       "      <td>61.46</td>\n",
       "      <td>54.82</td>\n",
       "      <td>64.14</td>\n",
       "      <td>32.36</td>\n",
       "    </tr>\n",
       "    <tr>\n",
       "      <th>1</th>\n",
       "      <td>2016</td>\n",
       "      <td>Portuaria</td>\n",
       "      <td>45.33</td>\n",
       "      <td>59.10</td>\n",
       "      <td>87.63</td>\n",
       "      <td>80.80</td>\n",
       "      <td>67.97</td>\n",
       "      <td>0.00</td>\n",
       "      <td>41.67</td>\n",
       "      <td>41.34</td>\n",
       "      <td>20.73</td>\n",
       "      <td>64.74</td>\n",
       "      <td>39.89</td>\n",
       "      <td>35.23</td>\n",
       "      <td>39.35</td>\n",
       "      <td>61.94</td>\n",
       "      <td>34.18</td>\n",
       "      <td>5.43</td>\n",
       "    </tr>\n",
       "    <tr>\n",
       "      <th>2</th>\n",
       "      <td>2016</td>\n",
       "      <td>Centro</td>\n",
       "      <td>57.75</td>\n",
       "      <td>62.43</td>\n",
       "      <td>59.38</td>\n",
       "      <td>74.18</td>\n",
       "      <td>91.85</td>\n",
       "      <td>24.31</td>\n",
       "      <td>52.41</td>\n",
       "      <td>55.60</td>\n",
       "      <td>56.00</td>\n",
       "      <td>41.04</td>\n",
       "      <td>56.99</td>\n",
       "      <td>58.42</td>\n",
       "      <td>45.89</td>\n",
       "      <td>87.27</td>\n",
       "      <td>52.24</td>\n",
       "      <td>48.26</td>\n",
       "    </tr>\n",
       "    <tr>\n",
       "      <th>3</th>\n",
       "      <td>2016</td>\n",
       "      <td>Rio Comprido</td>\n",
       "      <td>52.43</td>\n",
       "      <td>58.97</td>\n",
       "      <td>61.22</td>\n",
       "      <td>84.36</td>\n",
       "      <td>64.78</td>\n",
       "      <td>25.52</td>\n",
       "      <td>47.19</td>\n",
       "      <td>34.00</td>\n",
       "      <td>42.08</td>\n",
       "      <td>47.84</td>\n",
       "      <td>64.84</td>\n",
       "      <td>51.14</td>\n",
       "      <td>66.89</td>\n",
       "      <td>50.45</td>\n",
       "      <td>64.74</td>\n",
       "      <td>22.48</td>\n",
       "    </tr>\n",
       "    <tr>\n",
       "      <th>4</th>\n",
       "      <td>2016</td>\n",
       "      <td>Botafogo</td>\n",
       "      <td>87.12</td>\n",
       "      <td>93.32</td>\n",
       "      <td>85.15</td>\n",
       "      <td>98.49</td>\n",
       "      <td>99.55</td>\n",
       "      <td>90.08</td>\n",
       "      <td>81.13</td>\n",
       "      <td>78.47</td>\n",
       "      <td>86.52</td>\n",
       "      <td>81.46</td>\n",
       "      <td>78.07</td>\n",
       "      <td>86.91</td>\n",
       "      <td>68.19</td>\n",
       "      <td>85.74</td>\n",
       "      <td>94.30</td>\n",
       "      <td>99.39</td>\n",
       "    </tr>\n",
       "  </tbody>\n",
       "</table>\n",
       "</div>"
      ],
      "text/plain": [
       "    ano regiao_administrativa  ips_geral  \\\n",
       "0  2016        Rio De Janeiro      60.77   \n",
       "1  2016             Portuaria      45.33   \n",
       "2  2016                Centro      57.75   \n",
       "3  2016          Rio Comprido      52.43   \n",
       "4  2016              Botafogo      87.12   \n",
       "\n",
       "   necessidades_humanas_basicas_nota_dimensao  \\\n",
       "0                                       75.84   \n",
       "1                                       59.10   \n",
       "2                                       62.43   \n",
       "3                                       58.97   \n",
       "4                                       93.32   \n",
       "\n",
       "   nutricao_cuidados_medicos_basicos  agua_saneamento  moradia  \\\n",
       "0                              70.19            83.68    78.16   \n",
       "1                              87.63            80.80    67.97   \n",
       "2                              59.38            74.18    91.85   \n",
       "3                              61.22            84.36    64.78   \n",
       "4                              85.15            98.49    99.55   \n",
       "\n",
       "   seguranca_pessoal  fundamentos_bem_estar_nota_dimensao  \\\n",
       "0              71.34                                53.28   \n",
       "1               0.00                                41.67   \n",
       "2              24.31                                52.41   \n",
       "3              25.52                                47.19   \n",
       "4              90.08                                81.13   \n",
       "\n",
       "   acesso_conhecimento_basico  acesso_informacao  saude_bem_estar  \\\n",
       "0                       49.96              50.89            62.03   \n",
       "1                       41.34              20.73            64.74   \n",
       "2                       55.60              56.00            41.04   \n",
       "3                       34.00              42.08            47.84   \n",
       "4                       78.47              86.52            81.46   \n",
       "\n",
       "   qualidade_meio_ambiente  oportunidades_nota_dimensao  direitos_individuais  \\\n",
       "0                    50.26                        53.20                 61.46   \n",
       "1                    39.89                        35.23                 39.35   \n",
       "2                    56.99                        58.42                 45.89   \n",
       "3                    64.84                        51.14                 66.89   \n",
       "4                    78.07                        86.91                 68.19   \n",
       "\n",
       "   liberdades_individuais  tolerancia_inclusao  acesso_educacao_superior  \n",
       "0                   54.82                64.14                     32.36  \n",
       "1                   61.94                34.18                      5.43  \n",
       "2                   87.27                52.24                     48.26  \n",
       "3                   50.45                64.74                     22.48  \n",
       "4                   85.74                94.30                     99.39  "
      ]
     },
     "execution_count": 66,
     "metadata": {},
     "output_type": "execute_result"
    }
   ],
   "source": [
    "df_dimensoes_rj = pd.read_csv('dimensoes_componentes.csv')\n",
    "print(df_dimensoes_rj.shape)\n",
    "df_dimensoes_rj.head()"
   ]
  },
  {
   "cell_type": "code",
   "execution_count": 67,
   "metadata": {},
   "outputs": [
    {
     "name": "stdout",
     "output_type": "stream",
     "text": [
      "33\n"
     ]
    },
    {
     "data": {
      "text/plain": [
       "array([2016, 2018, 2020], dtype=int64)"
      ]
     },
     "execution_count": 67,
     "metadata": {},
     "output_type": "execute_result"
    }
   ],
   "source": [
    "bairros = pd.unique(df_dimensoes_rj['regiao_administrativa'])\n",
    "print(len(bairros))\n",
    "anos = pd.unique(df_dimensoes_rj['ano'])\n",
    "anos"
   ]
  },
  {
   "cell_type": "markdown",
   "metadata": {},
   "source": [
    "<p align='justify'>Ou seja, temos no total 33 bairros do Rio sendo analisados em 3 anos diferentes: 2016, 2018, 2020</p>"
   ]
  },
  {
   "cell_type": "code",
   "execution_count": 68,
   "metadata": {},
   "outputs": [
    {
     "name": "stdout",
     "output_type": "stream",
     "text": [
      "(33, 18)\n",
      "(33, 18)\n",
      "(33, 18)\n"
     ]
    }
   ],
   "source": [
    "df_dimensoes_rj_2016 = df_dimensoes_rj[df_dimensoes_rj['ano'] == 2016] \n",
    "df_dimensoes_rj_2018 = df_dimensoes_rj[df_dimensoes_rj['ano'] == 2018] \n",
    "df_dimensoes_rj_2020 = df_dimensoes_rj[df_dimensoes_rj['ano'] == 2020] \n",
    "print(df_dimensoes_rj_2016.shape)\n",
    "print(df_dimensoes_rj_2018.shape)\n",
    "print(df_dimensoes_rj_2020.shape)"
   ]
  },
  {
   "cell_type": "code",
   "execution_count": 69,
   "metadata": {},
   "outputs": [
    {
     "name": "stdout",
     "output_type": "stream",
     "text": [
      "False\n"
     ]
    },
    {
     "data": {
      "text/plain": [
       "ano                                            True\n",
       "ips_geral                                     False\n",
       "necessidades_humanas_basicas_nota_dimensao    False\n",
       "nutricao_cuidados_medicos_basicos             False\n",
       "agua_saneamento                               False\n",
       "moradia                                       False\n",
       "seguranca_pessoal                             False\n",
       "fundamentos_bem_estar_nota_dimensao           False\n",
       "acesso_conhecimento_basico                    False\n",
       "acesso_informacao                             False\n",
       "saude_bem_estar                               False\n",
       "qualidade_meio_ambiente                       False\n",
       "oportunidades_nota_dimensao                   False\n",
       "direitos_individuais                          False\n",
       "liberdades_individuais                        False\n",
       "tolerancia_inclusao                           False\n",
       "acesso_educacao_superior                      False\n",
       "dtype: bool"
      ]
     },
     "execution_count": 69,
     "metadata": {},
     "output_type": "execute_result"
    }
   ],
   "source": [
    "df_dimensoes_aux = df_dimensoes_rj.copy()\n",
    "del df_dimensoes_aux['regiao_administrativa']\n",
    "\n",
    "#verificando notas fora da escala de avaliação (0 a 100)\n",
    "print((df_dimensoes_aux < 0).values.any())\n",
    "(df_dimensoes_aux > 100).any()"
   ]
  },
  {
   "cell_type": "code",
   "execution_count": 70,
   "metadata": {},
   "outputs": [
    {
     "data": {
      "text/plain": [
       "False"
      ]
     },
     "execution_count": 70,
     "metadata": {},
     "output_type": "execute_result"
    }
   ],
   "source": [
    "#verificando para valores nulos\n",
    "df_dimensoes_rj.isnull().values.any()"
   ]
  },
  {
   "cell_type": "markdown",
   "metadata": {},
   "source": [
    "<h3>INDICADORES</h3>\n",
    "<p align='justify'>Importando os dados referentes aos indicadores do estudo: </p>"
   ]
  },
  {
   "cell_type": "code",
   "execution_count": 71,
   "metadata": {
    "scrolled": false
   },
   "outputs": [
    {
     "name": "stdout",
     "output_type": "stream",
     "text": [
      "(99, 38)\n"
     ]
    },
    {
     "data": {
      "text/html": [
       "<div>\n",
       "<style scoped>\n",
       "    .dataframe tbody tr th:only-of-type {\n",
       "        vertical-align: middle;\n",
       "    }\n",
       "\n",
       "    .dataframe tbody tr th {\n",
       "        vertical-align: top;\n",
       "    }\n",
       "\n",
       "    .dataframe thead th {\n",
       "        text-align: right;\n",
       "    }\n",
       "</style>\n",
       "<table border=\"1\" class=\"dataframe\">\n",
       "  <thead>\n",
       "    <tr style=\"text-align: right;\">\n",
       "      <th></th>\n",
       "      <th>ano</th>\n",
       "      <th>regiao_administrativa</th>\n",
       "      <th>mortalidade_infancia</th>\n",
       "      <th>prop_baixo_peso_nascer</th>\n",
       "      <th>mortalidade_materna</th>\n",
       "      <th>taxa_internacoes_infantis_crise_respiratoria_aguda</th>\n",
       "      <th>prop_acesso_agua_canalizada</th>\n",
       "      <th>prop_acesso_esgotamento_sanitario</th>\n",
       "      <th>prop_acesso_banheiro</th>\n",
       "      <th>prop_populacao_vivendo_favelas_nao_urbanizadas</th>\n",
       "      <th>...</th>\n",
       "      <th>taxa_participacao_politica</th>\n",
       "      <th>prop_gravidez_adolescencia</th>\n",
       "      <th>trabalho_infantil</th>\n",
       "      <th>indice_acesso_cultura</th>\n",
       "      <th>taxa_violencia_contra_mulher</th>\n",
       "      <th>taxa_homicidios_jovens_negros</th>\n",
       "      <th>prop_vulnerabilidade_familiar</th>\n",
       "      <th>prop_pessoas_ensino_superior</th>\n",
       "      <th>prop_negros_indigenas_ensino_superior</th>\n",
       "      <th>prop_frequencia_ensino_superior</th>\n",
       "    </tr>\n",
       "  </thead>\n",
       "  <tbody>\n",
       "    <tr>\n",
       "      <th>0</th>\n",
       "      <td>2016</td>\n",
       "      <td>Rio De Janeiro</td>\n",
       "      <td>2.77</td>\n",
       "      <td>9.21</td>\n",
       "      <td>52.61</td>\n",
       "      <td>8.48</td>\n",
       "      <td>98.47</td>\n",
       "      <td>89.95</td>\n",
       "      <td>98.73</td>\n",
       "      <td>19.16</td>\n",
       "      <td>...</td>\n",
       "      <td>0.21</td>\n",
       "      <td>16.42</td>\n",
       "      <td>11.14</td>\n",
       "      <td>30.34</td>\n",
       "      <td>353.56</td>\n",
       "      <td>9.00</td>\n",
       "      <td>2.29</td>\n",
       "      <td>21.26</td>\n",
       "      <td>9.82</td>\n",
       "      <td>28.04</td>\n",
       "    </tr>\n",
       "    <tr>\n",
       "      <th>1</th>\n",
       "      <td>2016</td>\n",
       "      <td>Portuaria</td>\n",
       "      <td>0.91</td>\n",
       "      <td>7.40</td>\n",
       "      <td>75.81</td>\n",
       "      <td>9.66</td>\n",
       "      <td>99.73</td>\n",
       "      <td>93.97</td>\n",
       "      <td>94.26</td>\n",
       "      <td>13.18</td>\n",
       "      <td>...</td>\n",
       "      <td>0.25</td>\n",
       "      <td>20.17</td>\n",
       "      <td>9.51</td>\n",
       "      <td>67.26</td>\n",
       "      <td>601.89</td>\n",
       "      <td>6.13</td>\n",
       "      <td>4.54</td>\n",
       "      <td>3.88</td>\n",
       "      <td>2.10</td>\n",
       "      <td>9.81</td>\n",
       "    </tr>\n",
       "    <tr>\n",
       "      <th>2</th>\n",
       "      <td>2016</td>\n",
       "      <td>Centro</td>\n",
       "      <td>3.92</td>\n",
       "      <td>10.53</td>\n",
       "      <td>0.00</td>\n",
       "      <td>9.77</td>\n",
       "      <td>99.66</td>\n",
       "      <td>92.23</td>\n",
       "      <td>92.34</td>\n",
       "      <td>0.26</td>\n",
       "      <td>...</td>\n",
       "      <td>0.30</td>\n",
       "      <td>13.16</td>\n",
       "      <td>0.00</td>\n",
       "      <td>100.00</td>\n",
       "      <td>1009.09</td>\n",
       "      <td>5.41</td>\n",
       "      <td>1.35</td>\n",
       "      <td>24.02</td>\n",
       "      <td>18.03</td>\n",
       "      <td>39.37</td>\n",
       "    </tr>\n",
       "    <tr>\n",
       "      <th>3</th>\n",
       "      <td>2016</td>\n",
       "      <td>Rio Comprido</td>\n",
       "      <td>3.71</td>\n",
       "      <td>10.29</td>\n",
       "      <td>27.93</td>\n",
       "      <td>7.88</td>\n",
       "      <td>99.46</td>\n",
       "      <td>93.03</td>\n",
       "      <td>96.45</td>\n",
       "      <td>35.44</td>\n",
       "      <td>...</td>\n",
       "      <td>0.24</td>\n",
       "      <td>16.99</td>\n",
       "      <td>3.69</td>\n",
       "      <td>7.18</td>\n",
       "      <td>417.22</td>\n",
       "      <td>4.94</td>\n",
       "      <td>2.28</td>\n",
       "      <td>15.16</td>\n",
       "      <td>6.63</td>\n",
       "      <td>21.80</td>\n",
       "    </tr>\n",
       "    <tr>\n",
       "      <th>4</th>\n",
       "      <td>2016</td>\n",
       "      <td>Botafogo</td>\n",
       "      <td>1.05</td>\n",
       "      <td>9.16</td>\n",
       "      <td>14.80</td>\n",
       "      <td>4.15</td>\n",
       "      <td>99.87</td>\n",
       "      <td>99.07</td>\n",
       "      <td>99.33</td>\n",
       "      <td>1.67</td>\n",
       "      <td>...</td>\n",
       "      <td>0.26</td>\n",
       "      <td>4.32</td>\n",
       "      <td>8.33</td>\n",
       "      <td>68.39</td>\n",
       "      <td>217.04</td>\n",
       "      <td>2.50</td>\n",
       "      <td>0.59</td>\n",
       "      <td>57.03</td>\n",
       "      <td>35.17</td>\n",
       "      <td>68.69</td>\n",
       "    </tr>\n",
       "  </tbody>\n",
       "</table>\n",
       "<p>5 rows × 38 columns</p>\n",
       "</div>"
      ],
      "text/plain": [
       "    ano regiao_administrativa  mortalidade_infancia  prop_baixo_peso_nascer  \\\n",
       "0  2016        Rio De Janeiro                  2.77                    9.21   \n",
       "1  2016             Portuaria                  0.91                    7.40   \n",
       "2  2016                Centro                  3.92                   10.53   \n",
       "3  2016          Rio Comprido                  3.71                   10.29   \n",
       "4  2016              Botafogo                  1.05                    9.16   \n",
       "\n",
       "   mortalidade_materna  taxa_internacoes_infantis_crise_respiratoria_aguda  \\\n",
       "0                52.61                                               8.48    \n",
       "1                75.81                                               9.66    \n",
       "2                 0.00                                               9.77    \n",
       "3                27.93                                               7.88    \n",
       "4                14.80                                               4.15    \n",
       "\n",
       "   prop_acesso_agua_canalizada  prop_acesso_esgotamento_sanitario  \\\n",
       "0                        98.47                              89.95   \n",
       "1                        99.73                              93.97   \n",
       "2                        99.66                              92.23   \n",
       "3                        99.46                              93.03   \n",
       "4                        99.87                              99.07   \n",
       "\n",
       "   prop_acesso_banheiro  prop_populacao_vivendo_favelas_nao_urbanizadas  ...  \\\n",
       "0                 98.73                                           19.16  ...   \n",
       "1                 94.26                                           13.18  ...   \n",
       "2                 92.34                                            0.26  ...   \n",
       "3                 96.45                                           35.44  ...   \n",
       "4                 99.33                                            1.67  ...   \n",
       "\n",
       "   taxa_participacao_politica  prop_gravidez_adolescencia  trabalho_infantil  \\\n",
       "0                        0.21                       16.42              11.14   \n",
       "1                        0.25                       20.17               9.51   \n",
       "2                        0.30                       13.16               0.00   \n",
       "3                        0.24                       16.99               3.69   \n",
       "4                        0.26                        4.32               8.33   \n",
       "\n",
       "   indice_acesso_cultura  taxa_violencia_contra_mulher  \\\n",
       "0                  30.34                        353.56   \n",
       "1                  67.26                        601.89   \n",
       "2                 100.00                       1009.09   \n",
       "3                   7.18                        417.22   \n",
       "4                  68.39                        217.04   \n",
       "\n",
       "   taxa_homicidios_jovens_negros  prop_vulnerabilidade_familiar  \\\n",
       "0                           9.00                           2.29   \n",
       "1                           6.13                           4.54   \n",
       "2                           5.41                           1.35   \n",
       "3                           4.94                           2.28   \n",
       "4                           2.50                           0.59   \n",
       "\n",
       "   prop_pessoas_ensino_superior  prop_negros_indigenas_ensino_superior  \\\n",
       "0                         21.26                                   9.82   \n",
       "1                          3.88                                   2.10   \n",
       "2                         24.02                                  18.03   \n",
       "3                         15.16                                   6.63   \n",
       "4                         57.03                                  35.17   \n",
       "\n",
       "   prop_frequencia_ensino_superior  \n",
       "0                            28.04  \n",
       "1                             9.81  \n",
       "2                            39.37  \n",
       "3                            21.80  \n",
       "4                            68.69  \n",
       "\n",
       "[5 rows x 38 columns]"
      ]
     },
     "execution_count": 71,
     "metadata": {},
     "output_type": "execute_result"
    }
   ],
   "source": [
    "df_indicadores_rj = pd.read_csv('indicadores.csv')\n",
    "print(df_indicadores_rj.shape)\n",
    "df_indicadores_rj.head()"
   ]
  },
  {
   "cell_type": "code",
   "execution_count": 72,
   "metadata": {},
   "outputs": [
    {
     "name": "stdout",
     "output_type": "stream",
     "text": [
      "33\n"
     ]
    },
    {
     "data": {
      "text/plain": [
       "array([2016, 2018, 2020], dtype=int64)"
      ]
     },
     "execution_count": 72,
     "metadata": {},
     "output_type": "execute_result"
    }
   ],
   "source": [
    "bairros = pd.unique(df_indicadores_rj['regiao_administrativa'])\n",
    "print(len(bairros))\n",
    "anos = pd.unique(df_indicadores_rj ['ano'])\n",
    "anos"
   ]
  },
  {
   "cell_type": "markdown",
   "metadata": {},
   "source": [
    "<p align='justify'>Novamente, possuímos dados referentes a 33 bairros/regiões administrativas em 3 anos diferentes: 2016, 2018, 2020.</p>"
   ]
  },
  {
   "cell_type": "code",
   "execution_count": 73,
   "metadata": {},
   "outputs": [
    {
     "data": {
      "text/plain": [
       "False"
      ]
     },
     "execution_count": 73,
     "metadata": {},
     "output_type": "execute_result"
    }
   ],
   "source": [
    "#Conferindo para valores nulos\n",
    "df_indicadores_rj.isnull().values.any()"
   ]
  },
  {
   "cell_type": "markdown",
   "metadata": {},
   "source": [
    "<h2>ADH</h2>\n",
    "<p align='justify'>Outra fonte de dados que será utilizada na análise é referente o Atlas do Desenvolvimento Humano (ADH), um estudo realizado pela ONU. Esse estudo traz ainda mais indicadores e nos traz a possibilidade de ter uma visão individual do Rio de Janeiro como município e uma visão geral de Brasil enquanto país.</p>"
   ]
  },
  {
   "cell_type": "code",
   "execution_count": 74,
   "metadata": {
    "scrolled": true
   },
   "outputs": [
    {
     "name": "stdout",
     "output_type": "stream",
     "text": [
      "(16695, 230)\n"
     ]
    },
    {
     "data": {
      "text/html": [
       "<div>\n",
       "<style scoped>\n",
       "    .dataframe tbody tr th:only-of-type {\n",
       "        vertical-align: middle;\n",
       "    }\n",
       "\n",
       "    .dataframe tbody tr th {\n",
       "        vertical-align: top;\n",
       "    }\n",
       "\n",
       "    .dataframe thead th {\n",
       "        text-align: right;\n",
       "    }\n",
       "</style>\n",
       "<table border=\"1\" class=\"dataframe\">\n",
       "  <thead>\n",
       "    <tr style=\"text-align: right;\">\n",
       "      <th></th>\n",
       "      <th>ano</th>\n",
       "      <th>id_municipio</th>\n",
       "      <th>expectativa_vida</th>\n",
       "      <th>fecundidade_total</th>\n",
       "      <th>mortalidade_1</th>\n",
       "      <th>mortalidade_5</th>\n",
       "      <th>razao_dependencia</th>\n",
       "      <th>prob_sobrevivencia_40</th>\n",
       "      <th>prob_sobrevivencia_60</th>\n",
       "      <th>taxa_envelhecimento</th>\n",
       "      <th>...</th>\n",
       "      <th>pia</th>\n",
       "      <th>pia_10_14</th>\n",
       "      <th>pia_15_17</th>\n",
       "      <th>pia_18_mais</th>\n",
       "      <th>indice_escolaridade</th>\n",
       "      <th>indice_frequencia_escolar</th>\n",
       "      <th>idhm</th>\n",
       "      <th>idhm_e</th>\n",
       "      <th>idhm_l</th>\n",
       "      <th>idhm_r</th>\n",
       "    </tr>\n",
       "  </thead>\n",
       "  <tbody>\n",
       "    <tr>\n",
       "      <th>0</th>\n",
       "      <td>1991</td>\n",
       "      <td>1100015</td>\n",
       "      <td>62.01</td>\n",
       "      <td>4.08</td>\n",
       "      <td>45.58</td>\n",
       "      <td>58.05</td>\n",
       "      <td>73.50</td>\n",
       "      <td>83.81</td>\n",
       "      <td>66.87</td>\n",
       "      <td>1.82</td>\n",
       "      <td>...</td>\n",
       "      <td>NaN</td>\n",
       "      <td>NaN</td>\n",
       "      <td>NaN</td>\n",
       "      <td>NaN</td>\n",
       "      <td>0.117</td>\n",
       "      <td>0.109</td>\n",
       "      <td>0.329</td>\n",
       "      <td>0.112</td>\n",
       "      <td>0.617</td>\n",
       "      <td>0.516</td>\n",
       "    </tr>\n",
       "    <tr>\n",
       "      <th>1</th>\n",
       "      <td>1991</td>\n",
       "      <td>1100023</td>\n",
       "      <td>66.02</td>\n",
       "      <td>3.72</td>\n",
       "      <td>32.39</td>\n",
       "      <td>41.41</td>\n",
       "      <td>69.97</td>\n",
       "      <td>88.08</td>\n",
       "      <td>74.23</td>\n",
       "      <td>1.82</td>\n",
       "      <td>...</td>\n",
       "      <td>NaN</td>\n",
       "      <td>NaN</td>\n",
       "      <td>NaN</td>\n",
       "      <td>NaN</td>\n",
       "      <td>0.200</td>\n",
       "      <td>0.199</td>\n",
       "      <td>0.432</td>\n",
       "      <td>0.199</td>\n",
       "      <td>0.684</td>\n",
       "      <td>0.593</td>\n",
       "    </tr>\n",
       "    <tr>\n",
       "      <th>2</th>\n",
       "      <td>1991</td>\n",
       "      <td>1100031</td>\n",
       "      <td>63.16</td>\n",
       "      <td>3.89</td>\n",
       "      <td>41.52</td>\n",
       "      <td>52.94</td>\n",
       "      <td>77.23</td>\n",
       "      <td>85.09</td>\n",
       "      <td>69.00</td>\n",
       "      <td>2.59</td>\n",
       "      <td>...</td>\n",
       "      <td>NaN</td>\n",
       "      <td>NaN</td>\n",
       "      <td>NaN</td>\n",
       "      <td>NaN</td>\n",
       "      <td>0.111</td>\n",
       "      <td>0.106</td>\n",
       "      <td>0.309</td>\n",
       "      <td>0.108</td>\n",
       "      <td>0.636</td>\n",
       "      <td>0.430</td>\n",
       "    </tr>\n",
       "    <tr>\n",
       "      <th>3</th>\n",
       "      <td>1991</td>\n",
       "      <td>1100049</td>\n",
       "      <td>65.03</td>\n",
       "      <td>3.81</td>\n",
       "      <td>35.37</td>\n",
       "      <td>45.19</td>\n",
       "      <td>71.11</td>\n",
       "      <td>87.08</td>\n",
       "      <td>72.44</td>\n",
       "      <td>2.47</td>\n",
       "      <td>...</td>\n",
       "      <td>NaN</td>\n",
       "      <td>NaN</td>\n",
       "      <td>NaN</td>\n",
       "      <td>NaN</td>\n",
       "      <td>0.176</td>\n",
       "      <td>0.169</td>\n",
       "      <td>0.407</td>\n",
       "      <td>0.171</td>\n",
       "      <td>0.667</td>\n",
       "      <td>0.593</td>\n",
       "    </tr>\n",
       "    <tr>\n",
       "      <th>4</th>\n",
       "      <td>1991</td>\n",
       "      <td>1100056</td>\n",
       "      <td>62.73</td>\n",
       "      <td>3.55</td>\n",
       "      <td>43.00</td>\n",
       "      <td>54.82</td>\n",
       "      <td>71.09</td>\n",
       "      <td>84.62</td>\n",
       "      <td>68.20</td>\n",
       "      <td>2.46</td>\n",
       "      <td>...</td>\n",
       "      <td>NaN</td>\n",
       "      <td>NaN</td>\n",
       "      <td>NaN</td>\n",
       "      <td>NaN</td>\n",
       "      <td>0.152</td>\n",
       "      <td>0.175</td>\n",
       "      <td>0.386</td>\n",
       "      <td>0.167</td>\n",
       "      <td>0.629</td>\n",
       "      <td>0.547</td>\n",
       "    </tr>\n",
       "  </tbody>\n",
       "</table>\n",
       "<p>5 rows × 230 columns</p>\n",
       "</div>"
      ],
      "text/plain": [
       "    ano  id_municipio  expectativa_vida  fecundidade_total  mortalidade_1  \\\n",
       "0  1991       1100015             62.01               4.08          45.58   \n",
       "1  1991       1100023             66.02               3.72          32.39   \n",
       "2  1991       1100031             63.16               3.89          41.52   \n",
       "3  1991       1100049             65.03               3.81          35.37   \n",
       "4  1991       1100056             62.73               3.55          43.00   \n",
       "\n",
       "   mortalidade_5  razao_dependencia  prob_sobrevivencia_40  \\\n",
       "0          58.05              73.50                  83.81   \n",
       "1          41.41              69.97                  88.08   \n",
       "2          52.94              77.23                  85.09   \n",
       "3          45.19              71.11                  87.08   \n",
       "4          54.82              71.09                  84.62   \n",
       "\n",
       "   prob_sobrevivencia_60  taxa_envelhecimento  ...  pia  pia_10_14  pia_15_17  \\\n",
       "0                  66.87                 1.82  ...  NaN        NaN        NaN   \n",
       "1                  74.23                 1.82  ...  NaN        NaN        NaN   \n",
       "2                  69.00                 2.59  ...  NaN        NaN        NaN   \n",
       "3                  72.44                 2.47  ...  NaN        NaN        NaN   \n",
       "4                  68.20                 2.46  ...  NaN        NaN        NaN   \n",
       "\n",
       "   pia_18_mais  indice_escolaridade  indice_frequencia_escolar   idhm  idhm_e  \\\n",
       "0          NaN                0.117                      0.109  0.329   0.112   \n",
       "1          NaN                0.200                      0.199  0.432   0.199   \n",
       "2          NaN                0.111                      0.106  0.309   0.108   \n",
       "3          NaN                0.176                      0.169  0.407   0.171   \n",
       "4          NaN                0.152                      0.175  0.386   0.167   \n",
       "\n",
       "   idhm_l  idhm_r  \n",
       "0   0.617   0.516  \n",
       "1   0.684   0.593  \n",
       "2   0.636   0.430  \n",
       "3   0.667   0.593  \n",
       "4   0.629   0.547  \n",
       "\n",
       "[5 rows x 230 columns]"
      ]
     },
     "execution_count": 74,
     "metadata": {},
     "output_type": "execute_result"
    }
   ],
   "source": [
    "#importando os dados do atlas que dizem respeito aos municípios do Brasil\n",
    "df_adh = pd.read_csv('municipio.csv')\n",
    "print(df_adh.shape)\n",
    "df_adh.head()"
   ]
  },
  {
   "cell_type": "code",
   "execution_count": 75,
   "metadata": {
    "scrolled": true
   },
   "outputs": [
    {
     "data": {
      "text/html": [
       "<div>\n",
       "<style scoped>\n",
       "    .dataframe tbody tr th:only-of-type {\n",
       "        vertical-align: middle;\n",
       "    }\n",
       "\n",
       "    .dataframe tbody tr th {\n",
       "        vertical-align: top;\n",
       "    }\n",
       "\n",
       "    .dataframe thead th {\n",
       "        text-align: right;\n",
       "    }\n",
       "</style>\n",
       "<table border=\"1\" class=\"dataframe\">\n",
       "  <thead>\n",
       "    <tr style=\"text-align: right;\">\n",
       "      <th></th>\n",
       "      <th>ano</th>\n",
       "      <th>id_municipio</th>\n",
       "      <th>expectativa_vida</th>\n",
       "      <th>fecundidade_total</th>\n",
       "      <th>mortalidade_1</th>\n",
       "      <th>mortalidade_5</th>\n",
       "      <th>razao_dependencia</th>\n",
       "      <th>prob_sobrevivencia_40</th>\n",
       "      <th>prob_sobrevivencia_60</th>\n",
       "      <th>taxa_envelhecimento</th>\n",
       "      <th>...</th>\n",
       "      <th>pia</th>\n",
       "      <th>pia_10_14</th>\n",
       "      <th>pia_15_17</th>\n",
       "      <th>pia_18_mais</th>\n",
       "      <th>indice_escolaridade</th>\n",
       "      <th>indice_frequencia_escolar</th>\n",
       "      <th>idhm</th>\n",
       "      <th>idhm_e</th>\n",
       "      <th>idhm_l</th>\n",
       "      <th>idhm_r</th>\n",
       "    </tr>\n",
       "  </thead>\n",
       "  <tbody>\n",
       "    <tr>\n",
       "      <th>3241</th>\n",
       "      <td>1991</td>\n",
       "      <td>3304557</td>\n",
       "      <td>67.85</td>\n",
       "      <td>1.99</td>\n",
       "      <td>30.23</td>\n",
       "      <td>34.49</td>\n",
       "      <td>48.34</td>\n",
       "      <td>89.23</td>\n",
       "      <td>74.14</td>\n",
       "      <td>7.36</td>\n",
       "      <td>...</td>\n",
       "      <td>NaN</td>\n",
       "      <td>NaN</td>\n",
       "      <td>NaN</td>\n",
       "      <td>NaN</td>\n",
       "      <td>0.558</td>\n",
       "      <td>0.450</td>\n",
       "      <td>0.639</td>\n",
       "      <td>0.483</td>\n",
       "      <td>0.714</td>\n",
       "      <td>0.757</td>\n",
       "    </tr>\n",
       "    <tr>\n",
       "      <th>8806</th>\n",
       "      <td>2000</td>\n",
       "      <td>3304557</td>\n",
       "      <td>70.26</td>\n",
       "      <td>1.87</td>\n",
       "      <td>21.83</td>\n",
       "      <td>24.70</td>\n",
       "      <td>46.48</td>\n",
       "      <td>92.14</td>\n",
       "      <td>78.51</td>\n",
       "      <td>9.11</td>\n",
       "      <td>...</td>\n",
       "      <td>4973916.0</td>\n",
       "      <td>439657.0</td>\n",
       "      <td>287630.0</td>\n",
       "      <td>4246628.0</td>\n",
       "      <td>0.616</td>\n",
       "      <td>0.603</td>\n",
       "      <td>0.716</td>\n",
       "      <td>0.607</td>\n",
       "      <td>0.754</td>\n",
       "      <td>0.803</td>\n",
       "    </tr>\n",
       "    <tr>\n",
       "      <th>14371</th>\n",
       "      <td>2010</td>\n",
       "      <td>3304557</td>\n",
       "      <td>75.69</td>\n",
       "      <td>1.56</td>\n",
       "      <td>13.02</td>\n",
       "      <td>14.65</td>\n",
       "      <td>42.61</td>\n",
       "      <td>92.95</td>\n",
       "      <td>83.10</td>\n",
       "      <td>10.46</td>\n",
       "      <td>...</td>\n",
       "      <td>5559923.0</td>\n",
       "      <td>466608.0</td>\n",
       "      <td>277074.0</td>\n",
       "      <td>4816241.0</td>\n",
       "      <td>0.722</td>\n",
       "      <td>0.717</td>\n",
       "      <td>0.799</td>\n",
       "      <td>0.719</td>\n",
       "      <td>0.845</td>\n",
       "      <td>0.840</td>\n",
       "    </tr>\n",
       "  </tbody>\n",
       "</table>\n",
       "<p>3 rows × 230 columns</p>\n",
       "</div>"
      ],
      "text/plain": [
       "        ano  id_municipio  expectativa_vida  fecundidade_total  mortalidade_1  \\\n",
       "3241   1991       3304557             67.85               1.99          30.23   \n",
       "8806   2000       3304557             70.26               1.87          21.83   \n",
       "14371  2010       3304557             75.69               1.56          13.02   \n",
       "\n",
       "       mortalidade_5  razao_dependencia  prob_sobrevivencia_40  \\\n",
       "3241           34.49              48.34                  89.23   \n",
       "8806           24.70              46.48                  92.14   \n",
       "14371          14.65              42.61                  92.95   \n",
       "\n",
       "       prob_sobrevivencia_60  taxa_envelhecimento  ...        pia  pia_10_14  \\\n",
       "3241                   74.14                 7.36  ...        NaN        NaN   \n",
       "8806                   78.51                 9.11  ...  4973916.0   439657.0   \n",
       "14371                  83.10                10.46  ...  5559923.0   466608.0   \n",
       "\n",
       "       pia_15_17  pia_18_mais  indice_escolaridade  indice_frequencia_escolar  \\\n",
       "3241         NaN          NaN                0.558                      0.450   \n",
       "8806    287630.0    4246628.0                0.616                      0.603   \n",
       "14371   277074.0    4816241.0                0.722                      0.717   \n",
       "\n",
       "        idhm  idhm_e  idhm_l  idhm_r  \n",
       "3241   0.639   0.483   0.714   0.757  \n",
       "8806   0.716   0.607   0.754   0.803  \n",
       "14371  0.799   0.719   0.845   0.840  \n",
       "\n",
       "[3 rows x 230 columns]"
      ]
     },
     "execution_count": 75,
     "metadata": {},
     "output_type": "execute_result"
    }
   ],
   "source": [
    "#filtrando para apenas para valores do municipio do Rio de Janeiro\n",
    "df_adh_rj = df_adh[df_adh['id_municipio'] == 3304557] \n",
    "df_adh_rj"
   ]
  },
  {
   "cell_type": "code",
   "execution_count": 76,
   "metadata": {},
   "outputs": [
    {
     "name": "stdout",
     "output_type": "stream",
     "text": [
      "Quantidade de nulos em 1991: 53\n",
      "Quantidade de nulos em 2000: 1\n",
      "Indicadores nulos de 2000: ['renda_media_ocupados']\n",
      "Quantidade de nulos em 2010: 0\n"
     ]
    }
   ],
   "source": [
    "#conferindo para valores nulos (NaN)\n",
    "df_adh_rj_1991 = (df_adh_rj[df_adh_rj['ano'] == 1991]).copy()\n",
    "print(\"Quantidade de nulos em 1991:\", df_adh_rj_1991.isnull().sum().sum())\n",
    "nulos_rj_91 = df_adh_rj_1991.columns[df_adh_rj_1991.isna().any()].tolist()\n",
    "#print(\"Indicadores nulos de 1991:\", nulos_rj_91)\n",
    "\n",
    "df_adh_rj_2000 = (df_adh_rj[df_adh_rj['ano'] == 2000]).copy()\n",
    "print(\"Quantidade de nulos em 2000:\",df_adh_rj_2000.isnull().sum().sum())\n",
    "print(\"Indicadores nulos de 2000:\",  df_adh_rj_2000.columns[df_adh_rj_2000.isna().any()].tolist())\n",
    "\n",
    "df_adh_rj_2010 = (df_adh_rj[df_adh_rj['ano'] == 2010]).copy()\n",
    "print(\"Quantidade de nulos em 2010:\",df_adh_rj_2010.isnull().sum().sum())"
   ]
  },
  {
   "cell_type": "markdown",
   "metadata": {},
   "source": [
    "<p align='justify'>No estudo realizado em 1991, temos um total de 53 valores nulos, possivelmente porque essas métricas ainda não haviam sido incluídas no projeto. Felizmente, ainda temos vários outros indicadores para analisar o estudo de 1991 e além disso, esses valores estão praticamente todos preenchidos nos anos seguintes</p>"
   ]
  },
  {
   "cell_type": "code",
   "execution_count": 77,
   "metadata": {
    "scrolled": false
   },
   "outputs": [
    {
     "name": "stdout",
     "output_type": "stream",
     "text": [
      "(3, 229)\n"
     ]
    },
    {
     "data": {
      "text/html": [
       "<div>\n",
       "<style scoped>\n",
       "    .dataframe tbody tr th:only-of-type {\n",
       "        vertical-align: middle;\n",
       "    }\n",
       "\n",
       "    .dataframe tbody tr th {\n",
       "        vertical-align: top;\n",
       "    }\n",
       "\n",
       "    .dataframe thead th {\n",
       "        text-align: right;\n",
       "    }\n",
       "</style>\n",
       "<table border=\"1\" class=\"dataframe\">\n",
       "  <thead>\n",
       "    <tr style=\"text-align: right;\">\n",
       "      <th></th>\n",
       "      <th>ano</th>\n",
       "      <th>expectativa_vida</th>\n",
       "      <th>fecundidade_total</th>\n",
       "      <th>mortalidade_1</th>\n",
       "      <th>mortalidade_5</th>\n",
       "      <th>razao_dependencia</th>\n",
       "      <th>prob_sobrevivencia_40</th>\n",
       "      <th>prob_sobrevivencia_60</th>\n",
       "      <th>taxa_envelhecimento</th>\n",
       "      <th>expectativa_anos_estudo</th>\n",
       "      <th>...</th>\n",
       "      <th>pia</th>\n",
       "      <th>pia_10_14</th>\n",
       "      <th>pia_15_17</th>\n",
       "      <th>pia_18_mais</th>\n",
       "      <th>indice_escolaridade</th>\n",
       "      <th>indice_frequencia_escolar</th>\n",
       "      <th>idhm</th>\n",
       "      <th>idhm_e</th>\n",
       "      <th>idhm_l</th>\n",
       "      <th>idhm_r</th>\n",
       "    </tr>\n",
       "  </thead>\n",
       "  <tbody>\n",
       "    <tr>\n",
       "      <th>0</th>\n",
       "      <td>1991</td>\n",
       "      <td>64.73</td>\n",
       "      <td>2.88</td>\n",
       "      <td>44.68</td>\n",
       "      <td>55.74</td>\n",
       "      <td>65.43</td>\n",
       "      <td>86.90</td>\n",
       "      <td>70.93</td>\n",
       "      <td>4.83</td>\n",
       "      <td>8.16</td>\n",
       "      <td>...</td>\n",
       "      <td>NaN</td>\n",
       "      <td>NaN</td>\n",
       "      <td>NaN</td>\n",
       "      <td>NaN</td>\n",
       "      <td>0.301</td>\n",
       "      <td>0.268</td>\n",
       "      <td>0.493</td>\n",
       "      <td>0.279</td>\n",
       "      <td>0.662</td>\n",
       "      <td>0.647</td>\n",
       "    </tr>\n",
       "    <tr>\n",
       "      <th>1</th>\n",
       "      <td>2000</td>\n",
       "      <td>68.61</td>\n",
       "      <td>2.37</td>\n",
       "      <td>30.57</td>\n",
       "      <td>36.98</td>\n",
       "      <td>54.94</td>\n",
       "      <td>90.43</td>\n",
       "      <td>77.63</td>\n",
       "      <td>5.83</td>\n",
       "      <td>8.76</td>\n",
       "      <td>...</td>\n",
       "      <td>136781176.0</td>\n",
       "      <td>17224648.0</td>\n",
       "      <td>10727016.0</td>\n",
       "      <td>108829511.0</td>\n",
       "      <td>0.398</td>\n",
       "      <td>0.488</td>\n",
       "      <td>0.612</td>\n",
       "      <td>0.456</td>\n",
       "      <td>0.727</td>\n",
       "      <td>0.692</td>\n",
       "    </tr>\n",
       "    <tr>\n",
       "      <th>2</th>\n",
       "      <td>2010</td>\n",
       "      <td>73.94</td>\n",
       "      <td>1.89</td>\n",
       "      <td>16.70</td>\n",
       "      <td>18.83</td>\n",
       "      <td>45.92</td>\n",
       "      <td>94.37</td>\n",
       "      <td>84.05</td>\n",
       "      <td>7.36</td>\n",
       "      <td>9.54</td>\n",
       "      <td>...</td>\n",
       "      <td>161981299.0</td>\n",
       "      <td>17167135.0</td>\n",
       "      <td>10353865.0</td>\n",
       "      <td>134460298.0</td>\n",
       "      <td>0.549</td>\n",
       "      <td>0.686</td>\n",
       "      <td>0.727</td>\n",
       "      <td>0.637</td>\n",
       "      <td>0.816</td>\n",
       "      <td>0.739</td>\n",
       "    </tr>\n",
       "  </tbody>\n",
       "</table>\n",
       "<p>3 rows × 229 columns</p>\n",
       "</div>"
      ],
      "text/plain": [
       "    ano  expectativa_vida  fecundidade_total  mortalidade_1  mortalidade_5  \\\n",
       "0  1991             64.73               2.88          44.68          55.74   \n",
       "1  2000             68.61               2.37          30.57          36.98   \n",
       "2  2010             73.94               1.89          16.70          18.83   \n",
       "\n",
       "   razao_dependencia  prob_sobrevivencia_40  prob_sobrevivencia_60  \\\n",
       "0              65.43                  86.90                  70.93   \n",
       "1              54.94                  90.43                  77.63   \n",
       "2              45.92                  94.37                  84.05   \n",
       "\n",
       "   taxa_envelhecimento  expectativa_anos_estudo  ...          pia   pia_10_14  \\\n",
       "0                 4.83                     8.16  ...          NaN         NaN   \n",
       "1                 5.83                     8.76  ...  136781176.0  17224648.0   \n",
       "2                 7.36                     9.54  ...  161981299.0  17167135.0   \n",
       "\n",
       "    pia_15_17  pia_18_mais  indice_escolaridade  indice_frequencia_escolar  \\\n",
       "0         NaN          NaN                0.301                      0.268   \n",
       "1  10727016.0  108829511.0                0.398                      0.488   \n",
       "2  10353865.0  134460298.0                0.549                      0.686   \n",
       "\n",
       "    idhm  idhm_e  idhm_l  idhm_r  \n",
       "0  0.493   0.279   0.662   0.647  \n",
       "1  0.612   0.456   0.727   0.692  \n",
       "2  0.727   0.637   0.816   0.739  \n",
       "\n",
       "[3 rows x 229 columns]"
      ]
     },
     "execution_count": 77,
     "metadata": {},
     "output_type": "execute_result"
    }
   ],
   "source": [
    "#importando dados do atlas referentes ao Brasil como um todo\n",
    "df_adh_br = pd.read_csv('brasil.csv')\n",
    "print(df_adh_br.shape)\n",
    "df_adh_br.head()"
   ]
  },
  {
   "cell_type": "code",
   "execution_count": 78,
   "metadata": {},
   "outputs": [
    {
     "name": "stdout",
     "output_type": "stream",
     "text": [
      "Quantidade de nulos em 1991: 53\n",
      "Quantidade de nulos em 2000: 3\n",
      "Indicadores nulos de 2000: ['renda_media_ocupados', 'taxa_paredes_inadequados', 'taxa_vulner_desloc_1_hora']\n",
      "Quantidade de nulos em 2010: 0\n"
     ]
    }
   ],
   "source": [
    "df_adh_br_1991 = (df_adh_br[df_adh_br['ano'] == 1991]).copy()\n",
    "print(\"Quantidade de nulos em 1991:\", df_adh_br_1991.isnull().sum().sum())\n",
    "nulos_br_91 = df_adh_br_1991.columns[df_adh_br_1991.isna().any()].tolist()\n",
    "#print(\"Indicadores nulos de 1991:\", nulos_br_91)\n",
    "\n",
    "df_adh_br_2000 = (df_adh_br[df_adh_br['ano'] == 2000]).copy()\n",
    "print(\"Quantidade de nulos em 2000:\",df_adh_br_2000.isnull().sum().sum())\n",
    "print(\"Indicadores nulos de 2000:\",  df_adh_br_2000.columns[df_adh_br_2000.isna().any()].tolist())\n",
    "\n",
    "df_adh_br_2010 = (df_adh_br[df_adh_br['ano'] == 2010]).copy()\n",
    "print(\"Quantidade de nulos em 2010:\",df_adh_br_2010.isnull().sum().sum())"
   ]
  },
  {
   "cell_type": "markdown",
   "metadata": {},
   "source": [
    "<p align='justify'>No estudo referente ao Brasil, também temos os 53 valores nulos no estudo de 1991 e também temos outros 2 indicadores nulos na pesquisa de 2000 que não estão nulos na pesquisa feita no Rio de Janeiro ('taxa_paredes_inadequados' e 'taxa_vulner_desloc_1_hora')</p>"
   ]
  },
  {
   "cell_type": "markdown",
   "metadata": {},
   "source": [
    "<h1>ANALISE</h1>"
   ]
  },
  {
   "cell_type": "code",
   "execution_count": 79,
   "metadata": {
    "scrolled": true
   },
   "outputs": [
    {
     "data": {
      "image/png": "[encoded data removed]",
      "text/plain": [
       "<Figure size 432x288 with 1 Axes>"
      ]
     },
     "metadata": {
      "needs_background": "light"
     },
     "output_type": "display_data"
    },
    {
     "data": {
      "text/plain": [
       "(        ano  idhm_e\n",
       " 3241   1991   0.483\n",
       " 8806   2000   0.607\n",
       " 14371  2010   0.719,\n",
       "     ano  idhm_e\n",
       " 0  1991   0.279\n",
       " 1  2000   0.456\n",
       " 2  2010   0.637)"
      ]
     },
     "execution_count": 79,
     "metadata": {},
     "output_type": "execute_result"
    }
   ],
   "source": [
    "#criando os dataframes de idhme para Brasil e Rio\n",
    "df_idhme_br = df_adh_br[['ano', 'idhm_e']]\n",
    "df_idhme_rj = df_adh_rj[['ano', 'idhm_e']]\n",
    "\n",
    "#plotando os valores\n",
    "x_axis = df_adh_rj['ano']\n",
    "y_axis = df_adh_rj['idhm_e']\n",
    "x_axis_br = df_adh_br['ano']\n",
    "y_axis_br = df_adh_br['idhm_e']\n",
    "\n",
    "plt.plot(x_axis, y_axis, label='IDHMe Rio')\n",
    "plt.plot(x_axis, y_axis, 'o', color='black')\n",
    "plt.plot(x_axis_br, y_axis_br, label='IDHMe Brasil')\n",
    "plt.plot(x_axis_br, y_axis_br, 'o', color='black')\n",
    "\n",
    "plt.title('Evolução IDHMe')\n",
    "plt.xlabel('ano')\n",
    "plt.ylabel('idhme')\n",
    "plt.legend(loc='best')\n",
    "plt.show()\n",
    "\n",
    "df_idhme_rj, df_idhme_br"
   ]
  },
  {
   "cell_type": "code",
   "execution_count": 80,
   "metadata": {},
   "outputs": [
    {
     "data": {
      "image/png": "[encoded data removed]",
      "text/plain": [
       "<Figure size 432x288 with 1 Axes>"
      ]
     },
     "metadata": {
      "needs_background": "light"
     },
     "output_type": "display_data"
    },
    {
     "data": {
      "text/plain": [
       "(    ano  taxa_analfabetismo_18_mais\n",
       " 0  1991                       20.88\n",
       " 1  2000                       14.50\n",
       " 2  2010                       10.19,\n",
       "         ano  taxa_analfabetismo_18_mais\n",
       " 3241   1991                        6.34\n",
       " 8806   2000                        4.60\n",
       " 14371  2010                        2.98)"
      ]
     },
     "execution_count": 80,
     "metadata": {},
     "output_type": "execute_result"
    }
   ],
   "source": [
    "#criando os dataframes de analfabetismo para o Brasil e para o Rio\n",
    "df_analfabetismo_br = df_adh_br[['ano', 'taxa_analfabetismo_18_mais']]\n",
    "df_analfabetismo_rj = df_adh_rj[['ano', 'taxa_analfabetismo_18_mais']]\n",
    "\n",
    "#plotando os valores\n",
    "x_axis = df_adh_rj['ano']\n",
    "y_axis = df_adh_rj['taxa_analfabetismo_18_mais']\n",
    "x_axis_br = df_adh_br['ano']\n",
    "y_axis_br = df_adh_br['taxa_analfabetismo_18_mais']\n",
    "\n",
    "plt.plot(x_axis, y_axis, label='analfabetismo Rio')\n",
    "plt.plot(x_axis, y_axis, 'o', color='black')\n",
    "plt.plot(x_axis_br, y_axis_br, label='analfabetismo Brasil')\n",
    "plt.plot(x_axis_br, y_axis_br, 'o', color='black')\n",
    "\n",
    "plt.title('Analfabetismo em maiores de idade')\n",
    "plt.xlabel('ano')\n",
    "plt.ylabel('taxa de analfabetismo')\n",
    "plt.legend(loc='best')\n",
    "plt.show()\n",
    "\n",
    "df_analfabetismo_br, df_analfabetismo_rj"
   ]
  },
  {
   "cell_type": "code",
   "execution_count": 81,
   "metadata": {},
   "outputs": [
    {
     "data": {
      "image/png": "[encoded data removed]",
      "text/plain": [
       "<Figure size 432x288 with 1 Axes>"
      ]
     },
     "metadata": {
      "needs_background": "light"
     },
     "output_type": "display_data"
    },
    {
     "data": {
      "text/plain": [
       "(    ano  prop_pobreza\n",
       " 0  1991         38.16\n",
       " 1  2000         27.90\n",
       " 2  2010         15.20,\n",
       "         ano  prop_pobreza\n",
       " 3241   1991         14.13\n",
       " 8806   2000          8.85\n",
       " 14371  2010          5.01)"
      ]
     },
     "execution_count": 81,
     "metadata": {},
     "output_type": "execute_result"
    }
   ],
   "source": [
    "#criando os dataframes referentes à pobreza para Brasil e Rio\n",
    "df_pob_br = df_adh_br[['ano', 'prop_pobreza']]\n",
    "df_pob_rj = df_adh_rj[['ano', 'prop_pobreza']]\n",
    "\n",
    "#plotando os valores\n",
    "x_axis = df_adh_rj['ano']\n",
    "y_axis = df_adh_rj['prop_pobreza']\n",
    "x_axis_br = df_adh_br['ano']\n",
    "y_axis_br = df_adh_br['prop_pobreza']\n",
    "\n",
    "plt.plot(x_axis, y_axis, label='pobreza Rio')\n",
    "plt.plot(x_axis, y_axis, 'o', color='black')\n",
    "plt.plot(x_axis_br, y_axis_br, label='pobreza Brasil')\n",
    "plt.plot(x_axis_br, y_axis_br, 'o', color='black')\n",
    "\n",
    "plt.title('Pobreza')\n",
    "plt.xlabel('ano')\n",
    "plt.ylabel('Proporção de Pobreza')\n",
    "plt.legend(loc='best')\n",
    "plt.show()\n",
    "df_pob_br, df_pob_rj\n"
   ]
  },
  {
   "cell_type": "code",
   "execution_count": 82,
   "metadata": {},
   "outputs": [
    {
     "data": {
      "image/png": "[encoded data removed]",
      "text/plain": [
       "<Figure size 432x288 with 1 Axes>"
      ]
     },
     "metadata": {
      "needs_background": "light"
     },
     "output_type": "display_data"
    },
    {
     "data": {
      "text/plain": [
       "(    ano  taxa_desocupacao_18_mais\n",
       " 0  1991                       NaN\n",
       " 1  2000                     13.82\n",
       " 2  2010                      7.29,\n",
       "         ano  taxa_desocupacao_18_mais\n",
       " 3241   1991                       NaN\n",
       " 8806   2000                     15.06\n",
       " 14371  2010                      7.25)"
      ]
     },
     "execution_count": 82,
     "metadata": {},
     "output_type": "execute_result"
    }
   ],
   "source": [
    "#criando os dataframes referentes à desocupação no Brasil e no Rio\n",
    "df_desoc_br = df_adh_br[['ano', 'taxa_desocupacao_18_mais']]\n",
    "df_desoc_rj = df_adh_rj[['ano', 'taxa_desocupacao_18_mais']]\n",
    "\n",
    "#plotando valores\n",
    "x_axis = df_adh_rj['ano']\n",
    "y_axis = df_adh_rj['taxa_desocupacao_18_mais']\n",
    "x_axis_br = df_adh_br['ano']\n",
    "y_axis_br = df_adh_br['taxa_desocupacao_18_mais']\n",
    "\n",
    "plt.plot(x_axis, y_axis, label='desocupados Rio')\n",
    "plt.plot(x_axis, y_axis, 'o', color='black')\n",
    "plt.plot(x_axis_br, y_axis_br, label='desocupados Brasil')\n",
    "plt.plot(x_axis_br, y_axis_br, 'o', color='black')\n",
    "\n",
    "plt.title('Desocupados')\n",
    "plt.xlabel('ano')\n",
    "plt.ylabel('taxa de desocupados')\n",
    "plt.legend(loc='best')\n",
    "plt.show()\n",
    "\n",
    "df_desoc_br, df_desoc_rj"
   ]
  },
  {
   "cell_type": "code",
   "execution_count": 83,
   "metadata": {},
   "outputs": [
    {
     "data": {
      "image/png": "[encoded data removed]",
      "text/plain": [
       "<Figure size 432x288 with 1 Axes>"
      ]
     },
     "metadata": {
      "needs_background": "light"
     },
     "output_type": "display_data"
    },
    {
     "data": {
      "text/plain": [
       "(        ano  indice_gini\n",
       " 3241   1991         0.60\n",
       " 8806   2000         0.61\n",
       " 14371  2010         0.62,\n",
       "     ano  indice_gini\n",
       " 0  1991         0.63\n",
       " 1  2000         0.64\n",
       " 2  2010         0.60)"
      ]
     },
     "execution_count": 83,
     "metadata": {},
     "output_type": "execute_result"
    }
   ],
   "source": [
    "#criando dataframes referentes ao índice Gini no Brasil e no Rio\n",
    "df_gini_br = df_adh_br[['ano', 'indice_gini']]\n",
    "df_gini_rj = df_adh_rj[['ano', 'indice_gini']]\n",
    "\n",
    "#plotando valores\n",
    "x_axis = df_adh_rj['ano']\n",
    "y_axis = df_adh_rj['indice_gini']\n",
    "x_axis_br = df_adh_br['ano']\n",
    "y_axis_br = df_adh_br['indice_gini']\n",
    "\n",
    "plt.plot(x_axis, y_axis, label='gini Rio')\n",
    "plt.plot(x_axis, y_axis, 'o', color='black')\n",
    "plt.plot(x_axis_br, y_axis_br, label='gini Brasil')\n",
    "plt.plot(x_axis_br, y_axis_br, 'o', color='black')\n",
    "\n",
    "plt.title('gini')\n",
    "plt.xlabel('ano')\n",
    "plt.ylabel('Proporção de Pobreza')\n",
    "plt.legend(loc='best')\n",
    "plt.show()\n",
    "df_gini_rj, df_gini_br\n"
   ]
  },
  {
   "cell_type": "code",
   "execution_count": 84,
   "metadata": {
    "scrolled": true
   },
   "outputs": [],
   "source": [
    "#selecionado apenas os dados referentes ao ultimo IPS\n",
    "df_indicadores_rj_2020 = (df_indicadores_rj[df_indicadores_rj['ano'] == 2020]).copy()\n",
    "#criando dataframe para taxa de homicídios no Rio\n",
    "homicidios = df_indicadores_rj_2020[['taxa_homicidios']]"
   ]
  },
  {
   "cell_type": "code",
   "execution_count": 85,
   "metadata": {},
   "outputs": [
    {
     "data": {
      "image/png": "[encoded data removed]",
      "text/plain": [
       "<Figure size 432x288 with 1 Axes>"
      ]
     },
     "metadata": {
      "needs_background": "light"
     },
     "output_type": "display_data"
    }
   ],
   "source": [
    "#plotando valores\n",
    "plt.hist(homicidios, color = 'orange', edgecolor = 'black')\n",
    "plt.title('Taxa de Homicidios')\n",
    "plt.show()"
   ]
  },
  {
   "cell_type": "code",
   "execution_count": 86,
   "metadata": {},
   "outputs": [],
   "source": [
    "#criando dataframe com taxa de homicídio e sua respectiva região administrativa e ordenando em ordem crescente\n",
    "homicidios_bairro = df_indicadores_rj_2020[['regiao_administrativa', 'taxa_homicidios']]\n",
    "homicidios_bairro = homicidios_bairro.sort_values(by = 'taxa_homicidios')\n",
    "#homicidios_bairro"
   ]
  },
  {
   "cell_type": "code",
   "execution_count": 87,
   "metadata": {
    "scrolled": false
   },
   "outputs": [
    {
     "data": {
      "image/png": "[encoded data removed]",
      "text/plain": [
       "<Figure size 432x288 with 1 Axes>"
      ]
     },
     "metadata": {
      "needs_background": "light"
     },
     "output_type": "display_data"
    }
   ],
   "source": [
    "#criando dataframe referente ao acesso ao ensino superior no rio\n",
    "ensino_superior = df_indicadores_rj_2020[['prop_pessoas_ensino_superior']]\n",
    "\n",
    "#plotando valores\n",
    "plt.hist(ensino_superior, color = 'blue', edgecolor = 'black')\n",
    "plt.title('Acesso ao Ensino Superior')\n",
    "plt.show()"
   ]
  },
  {
   "cell_type": "code",
   "execution_count": 88,
   "metadata": {},
   "outputs": [],
   "source": [
    "#criando dataframe com índices de acesso ao ensino superio e suas respectivas regiões administrativas \n",
    "ensino_superior_bairro = df_indicadores_rj_2020[['regiao_administrativa', 'prop_pessoas_ensino_superior']]\n",
    "\n",
    "#ordenando em ordem crescente\n",
    "ensino_superior_bairro = ensino_superior_bairro.sort_values(by = 'prop_pessoas_ensino_superior')\n",
    "#ensino_superior_bairro\n"
   ]
  },
  {
   "cell_type": "code",
   "execution_count": 89,
   "metadata": {
    "scrolled": true
   },
   "outputs": [
    {
     "data": {
      "text/plain": [
       "[]"
      ]
     },
     "execution_count": 89,
     "metadata": {},
     "output_type": "execute_result"
    },
    {
     "data": {
      "image/png": "[encoded data removed]",
      "text/plain": [
       "<Figure size 432x288 with 1 Axes>"
      ]
     },
     "metadata": {
      "needs_background": "light"
     },
     "output_type": "display_data"
    }
   ],
   "source": [
    "#criando df com indice de acesso à cultura\n",
    "cultura = df_indicadores_rj_2020[['indice_acesso_cultura']]\n",
    "\n",
    "#plotando valores\n",
    "plt.hist(cultura, color = 'purple', edgecolor = 'black')\n",
    "plt.title('Acesso à Cultura')\n",
    "plt.plot()"
   ]
  },
  {
   "cell_type": "code",
   "execution_count": 90,
   "metadata": {},
   "outputs": [],
   "source": [
    "#criando dataframe com regiões administrativas e suas respectivas notas em acesso à cultura\n",
    "cultura_bairro = df_indicadores_rj_2020[['regiao_administrativa', 'indice_acesso_cultura']]\n",
    "\n",
    "#ordenando regiões em ordem decrescente de acordo com a nota recebida\n",
    "cultura_bairro = cultura_bairro.sort_values(by = 'indice_acesso_cultura', ascending = False)\n",
    "#cultura_bairro"
   ]
  },
  {
   "cell_type": "code",
   "execution_count": 91,
   "metadata": {},
   "outputs": [
    {
     "data": {
      "text/html": [
       "<div>\n",
       "<style scoped>\n",
       "    .dataframe tbody tr th:only-of-type {\n",
       "        vertical-align: middle;\n",
       "    }\n",
       "\n",
       "    .dataframe tbody tr th {\n",
       "        vertical-align: top;\n",
       "    }\n",
       "\n",
       "    .dataframe thead th {\n",
       "        text-align: right;\n",
       "    }\n",
       "</style>\n",
       "<table border=\"1\" class=\"dataframe\">\n",
       "  <thead>\n",
       "    <tr style=\"text-align: right;\">\n",
       "      <th></th>\n",
       "      <th>prop_pessoas_ensino_superior</th>\n",
       "      <th>taxa_homicidios</th>\n",
       "    </tr>\n",
       "  </thead>\n",
       "  <tbody>\n",
       "    <tr>\n",
       "      <th>prop_pessoas_ensino_superior</th>\n",
       "      <td>1.000000</td>\n",
       "      <td>-0.502583</td>\n",
       "    </tr>\n",
       "    <tr>\n",
       "      <th>taxa_homicidios</th>\n",
       "      <td>-0.502583</td>\n",
       "      <td>1.000000</td>\n",
       "    </tr>\n",
       "  </tbody>\n",
       "</table>\n",
       "</div>"
      ],
      "text/plain": [
       "                              prop_pessoas_ensino_superior  taxa_homicidios\n",
       "prop_pessoas_ensino_superior                      1.000000        -0.502583\n",
       "taxa_homicidios                                  -0.502583         1.000000"
      ]
     },
     "execution_count": 91,
     "metadata": {},
     "output_type": "execute_result"
    },
    {
     "data": {
      "image/png": "[encoded data removed]",
      "text/plain": [
       "<Figure size 432x288 with 1 Axes>"
      ]
     },
     "metadata": {
      "needs_background": "light"
     },
     "output_type": "display_data"
    }
   ],
   "source": [
    "#criando o dataframe da primeira correlação\n",
    "corr1 = pd.concat([ensino_superior, homicidios], axis=1)\n",
    "\n",
    "#plotando o gráfico\n",
    "plt.scatter(ensino_superior, homicidios)\n",
    "plt.title('Acesso ao Ensino Superior x Taxa de Homicídios')\n",
    "plt.xlabel('ensino superior')\n",
    "plt.ylabel('taxa de homicídios')\n",
    "plt.plot()\n",
    "\n",
    "#calculando a correlação\n",
    "corr1.corr()"
   ]
  },
  {
   "cell_type": "code",
   "execution_count": 92,
   "metadata": {
    "scrolled": true
   },
   "outputs": [
    {
     "data": {
      "text/html": [
       "<div>\n",
       "<style scoped>\n",
       "    .dataframe tbody tr th:only-of-type {\n",
       "        vertical-align: middle;\n",
       "    }\n",
       "\n",
       "    .dataframe tbody tr th {\n",
       "        vertical-align: top;\n",
       "    }\n",
       "\n",
       "    .dataframe thead th {\n",
       "        text-align: right;\n",
       "    }\n",
       "</style>\n",
       "<table border=\"1\" class=\"dataframe\">\n",
       "  <thead>\n",
       "    <tr style=\"text-align: right;\">\n",
       "      <th></th>\n",
       "      <th>prop_gravidez_adolescencia</th>\n",
       "      <th>prop_pessoas_ensino_superior</th>\n",
       "    </tr>\n",
       "  </thead>\n",
       "  <tbody>\n",
       "    <tr>\n",
       "      <th>prop_gravidez_adolescencia</th>\n",
       "      <td>1.000000</td>\n",
       "      <td>-0.907962</td>\n",
       "    </tr>\n",
       "    <tr>\n",
       "      <th>prop_pessoas_ensino_superior</th>\n",
       "      <td>-0.907962</td>\n",
       "      <td>1.000000</td>\n",
       "    </tr>\n",
       "  </tbody>\n",
       "</table>\n",
       "</div>"
      ],
      "text/plain": [
       "                              prop_gravidez_adolescencia  \\\n",
       "prop_gravidez_adolescencia                      1.000000   \n",
       "prop_pessoas_ensino_superior                   -0.907962   \n",
       "\n",
       "                              prop_pessoas_ensino_superior  \n",
       "prop_gravidez_adolescencia                       -0.907962  \n",
       "prop_pessoas_ensino_superior                      1.000000  "
      ]
     },
     "execution_count": 92,
     "metadata": {},
     "output_type": "execute_result"
    },
    {
     "data": {
      "image/png": "[encoded data removed]",
      "text/plain": [
       "<Figure size 432x288 with 1 Axes>"
      ]
     },
     "metadata": {
      "needs_background": "light"
     },
     "output_type": "display_data"
    }
   ],
   "source": [
    "#criando df com indice de gravidez na adolescência\n",
    "gravidez_adol = df_indicadores_rj_2020[['prop_gravidez_adolescencia']]\n",
    "\n",
    "#criando o dataframe da segunda\n",
    "corr2 = pd.concat([gravidez_adol, ensino_superior], axis=1)\n",
    "\n",
    "#plotando o gráfico de correlação\n",
    "plt.scatter(gravidez_adol, ensino_superior)\n",
    "plt.title('Gravidez na adolescência x Acesso ao Ensino Superior')\n",
    "plt.xlabel('gravidez na adolescência')\n",
    "plt.ylabel('acesso ao ensino superior')\n",
    "plt.plot()\n",
    "\n",
    "#calculando a correlação\n",
    "corr2.corr()"
   ]
  },
  {
   "cell_type": "code",
   "execution_count": 93,
   "metadata": {},
   "outputs": [
    {
     "data": {
      "text/html": [
       "<div>\n",
       "<style scoped>\n",
       "    .dataframe tbody tr th:only-of-type {\n",
       "        vertical-align: middle;\n",
       "    }\n",
       "\n",
       "    .dataframe tbody tr th {\n",
       "        vertical-align: top;\n",
       "    }\n",
       "\n",
       "    .dataframe thead th {\n",
       "        text-align: right;\n",
       "    }\n",
       "</style>\n",
       "<table border=\"1\" class=\"dataframe\">\n",
       "  <thead>\n",
       "    <tr style=\"text-align: right;\">\n",
       "      <th></th>\n",
       "      <th>prop_acesso_internet</th>\n",
       "      <th>prop_gravidez_adolescencia</th>\n",
       "    </tr>\n",
       "  </thead>\n",
       "  <tbody>\n",
       "    <tr>\n",
       "      <th>prop_acesso_internet</th>\n",
       "      <td>1.000000</td>\n",
       "      <td>-0.917844</td>\n",
       "    </tr>\n",
       "    <tr>\n",
       "      <th>prop_gravidez_adolescencia</th>\n",
       "      <td>-0.917844</td>\n",
       "      <td>1.000000</td>\n",
       "    </tr>\n",
       "  </tbody>\n",
       "</table>\n",
       "</div>"
      ],
      "text/plain": [
       "                            prop_acesso_internet  prop_gravidez_adolescencia\n",
       "prop_acesso_internet                    1.000000                   -0.917844\n",
       "prop_gravidez_adolescencia             -0.917844                    1.000000"
      ]
     },
     "execution_count": 93,
     "metadata": {},
     "output_type": "execute_result"
    },
    {
     "data": {
      "image/png": "[encoded data removed]",
      "text/plain": [
       "<Figure size 432x288 with 1 Axes>"
      ]
     },
     "metadata": {
      "needs_background": "light"
     },
     "output_type": "display_data"
    }
   ],
   "source": [
    "#criando df com indice de acesso à internet\n",
    "acesso_internet = df_indicadores_rj_2020[['prop_acesso_internet']]\n",
    "\n",
    "#criando o dataframe da terceira correlação\n",
    "corr3 = pd.concat([acesso_internet, gravidez_adol], axis=1)\n",
    "\n",
    "#plotando o gráfico de correlação\n",
    "plt.scatter(acesso_internet, gravidez_adol)\n",
    "plt.title('Acesso à internet x Gravidez na adolescência')\n",
    "plt.xlabel('acesso à internet')\n",
    "plt.ylabel('gravidez na adolescência')\n",
    "plt.plot()\n",
    "\n",
    "#calculando a correlação\n",
    "corr3.corr()"
   ]
  }
 ],
 "metadata": {
  "kernelspec": {
   "display_name": "Python 3",
   "language": "python",
   "name": "python3"
  },
  "language_info": {
   "codemirror_mode": {
    "name": "ipython",
    "version": 3
   },
   "file_extension": ".py",
   "mimetype": "text/x-python",
   "name": "python",
   "nbconvert_exporter": "python",
   "pygments_lexer": "ipython3",
   "version": "3.8.5"
  }
 },
 "nbformat": 4,
 "nbformat_minor": 4
}
